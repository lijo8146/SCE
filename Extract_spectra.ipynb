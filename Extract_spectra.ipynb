{
 "cells": [
  {
   "cell_type": "code",
   "execution_count": null,
   "id": "828c5f36-8fa2-411a-ac12-3f77d574f89a",
   "metadata": {},
   "outputs": [],
   "source": [
    "# Resampling for the relevant 20m spatial resolution bands (B5, B6, B7, B8a, B11, and B12).\n",
    "# 10m bands (B2, B3, B4, and B8) will be used as is, 20m bands will be resampled to 10m resolution using the average method.\n",
    "# The 60m resolution bands are not included in the extracted spectra."
   ]
  },
  {
   "cell_type": "code",
   "execution_count": null,
   "id": "9ee93844-6679-4d63-a9ad-d6d1b70adaf2",
   "metadata": {},
   "outputs": [],
   "source": [
    "import rasterio\n",
    "import pandas as pd\n",
    "import xml.etree.ElementTree as ET\n",
    "\n",
    "def extract_spectra(xml_file, geotiff_file):\n",
    "    try:\n",
    "        # Parse the Sentinel-2 XML file to extract band information\n",
    "        tree = ET.parse(xml_file)\n",
    "        root = tree.getroot()\n",
    "\n",
    "        bands_info = []\n",
    "        for elem in root.iterfind(\".//BANDS/BAND\"):\n",
    "            band_name = elem.find(\"BAND_NAME\").text\n",
    "            band_center_wavelength = float(elem.find(\"CENTRAL_WAVELENGTH\").text)\n",
    "            bands_info.append((band_name, band_center_wavelength))\n",
    "\n",
    "        # Open the geotiff file using rasterio\n",
    "        with rasterio.open(geotiff_file) as src:\n",
    "            band_count = src.count\n",
    "            band_data = []\n",
    "\n",
    "            # Iterate over each band and read data\n",
    "            for band_index in range(1, band_count + 1):\n",
    "                band_data.append(src.read(band_index))\n",
    "\n",
    "        # Resample the 20m resolution bands to 10m resolution using the average method\n",
    "        resampled_band_data = []\n",
    "        resample_indices = [1, 2, 3, 4, 8, 11, 12]  # Indices of 20m bands to be resampled\n",
    "        for i in range(len(band_data)):\n",
    "            if i in resample_indices:\n",
    "                resampled_band = (band_data[i] + band_data[i + 1]) / 2.0\n",
    "                resampled_band_data.append(resampled_band)\n",
    "            elif i == 0 or i == 5:  # Bands 2 and 8 are already 10m resolution\n",
    "                resampled_band_data.append(band_data[i])\n",
    "\n",
    "        # Extract reflectance data from each band and create a dataframe\n",
    "        spectra_data = {band_name: band_data for (band_name, _) in bands_info}\n",
    "        df = pd.DataFrame(spectra_data)\n",
    "\n",
    "        # Add the center wavelength information to the dataframe\n",
    "        df['Wavelength (micrometers)'] = [wavelength for (_, wavelength) in bands_info]\n",
    "\n",
    "        # Rename columns for samples\n",
    "        df.columns = [f'Sample_{i}' for i in range(df.shape[1] - 1)] + ['Wavelength (micrometers)']\n",
    "\n",
    "        # Display the dataframe (Optional: comment out if you have many samples)\n",
    "        print(df)\n",
    "\n",
    "        # Save the dataframe to a CSV file\n",
    "        df.to_csv('spectra_table.csv', index=False)\n",
    "\n",
    "    except Exception as e:\n",
    "        print(f\"Error: {e}\")\n",
    "\n",
    "if __name__ == \"__main__\":\n",
    "    sentinel2_xml_file = \"path/to/sentinel2.xml\"\n",
    "    sentinel2_geotiff_file = \"path/to/sentinel2_geotiff.tif\"\n",
    "    extract_spectra(sentinel2_xml_file, sentinel2_geotiff_file)\n"
   ]
  }
 ],
 "metadata": {
  "kernelspec": {
   "display_name": "Python 3 (ipykernel)",
   "language": "python",
   "name": "python3"
  },
  "language_info": {
   "codemirror_mode": {
    "name": "ipython",
    "version": 3
   },
   "file_extension": ".py",
   "mimetype": "text/x-python",
   "name": "python",
   "nbconvert_exporter": "python",
   "pygments_lexer": "ipython3",
   "version": "3.9.13"
  }
 },
 "nbformat": 4,
 "nbformat_minor": 5
}
