{
 "cells": [
  {
   "cell_type": "code",
   "execution_count": 3,
   "id": "5938e559-fe1d-4f75-ad46-c5a19b051626",
   "metadata": {},
   "outputs": [
    {
     "name": "stdout",
     "output_type": "stream",
     "text": [
      "Ready!\n"
     ]
    }
   ],
   "source": [
    "# download the required packages\n",
    "import os\n",
    "import numpy as np\n",
    "import pandas as pd\n",
    "import matplotlib.pyplot as plt\n",
    "import rasterio\n",
    "\n",
    "from sentinelsat import SentinelAPI, read_geojson, geojson_to_wkt\n",
    "from datetime import date\n",
    "print(\"Ready!\")"
   ]
  },
  {
   "cell_type": "code",
   "execution_count": 11,
   "id": "1861c445-1aa2-4817-b975-674412056390",
   "metadata": {},
   "outputs": [],
   "source": [
    "# Convert Sentinel-2 scene to hdf5 format\n",
    "import h5py\n",
    "\n",
    "# Define the input Sentinel-2 image file path\n",
    "input_image_file = r\"C:\\Users\\lilly\\Documents\\Sentinel downloads\\Santa Barbara\\2021\\August 21\\S2B_MSIL2A_20210831T173859_N0301_R098_T14VNM_20210831T214202.SAFE\\MTD_MSIL2A.xml\"\n",
    "\n",
    "# Define the output HDF5 file path\n",
    "output_hdf5_file = r\"C:\\Users\\lilly\\Documents\\Sentinel_downloads\\SantaBarbara\\Aug21.h5\" "
   ]
  },
  {
   "cell_type": "code",
   "execution_count": 8,
   "id": "ded44be0-49de-4f20-afc9-79dd30a96f29",
   "metadata": {},
   "outputs": [
    {
     "ename": "RasterioIOError",
     "evalue": "C:/Users/lilly/Documents/Sentinel downloads/Santa Barbara/2021/August 21/S2B_MSIL2A_20210831T173859_N0301_R098_T14VNM_20210831T214202.SAFE: Permission denied",
     "output_type": "error",
     "traceback": [
      "\u001b[1;31m---------------------------------------------------------------------------\u001b[0m",
      "\u001b[1;31mCPLE_OpenFailedError\u001b[0m                      Traceback (most recent call last)",
      "\u001b[1;32mrasterio\\_base.pyx\u001b[0m in \u001b[0;36mrasterio._base.DatasetBase.__init__\u001b[1;34m()\u001b[0m\n",
      "\u001b[1;32mrasterio\\_shim.pyx\u001b[0m in \u001b[0;36mrasterio._shim.open_dataset\u001b[1;34m()\u001b[0m\n",
      "\u001b[1;32mrasterio\\_err.pyx\u001b[0m in \u001b[0;36mrasterio._err.exc_wrap_pointer\u001b[1;34m()\u001b[0m\n",
      "\u001b[1;31mCPLE_OpenFailedError\u001b[0m: C:/Users/lilly/Documents/Sentinel downloads/Santa Barbara/2021/August 21/S2B_MSIL2A_20210831T173859_N0301_R098_T14VNM_20210831T214202.SAFE: Permission denied",
      "\nDuring handling of the above exception, another exception occurred:\n",
      "\u001b[1;31mRasterioIOError\u001b[0m                           Traceback (most recent call last)",
      "\u001b[1;32m~\\AppData\\Local\\Temp\\ipykernel_10232\\544882935.py\u001b[0m in \u001b[0;36m<module>\u001b[1;34m\u001b[0m\n\u001b[0;32m      1\u001b[0m \u001b[1;31m# Open the Sentinel-2 image using rasterio\u001b[0m\u001b[1;33m\u001b[0m\u001b[1;33m\u001b[0m\u001b[0m\n\u001b[1;32m----> 2\u001b[1;33m \u001b[1;32mwith\u001b[0m \u001b[0mrasterio\u001b[0m\u001b[1;33m.\u001b[0m\u001b[0mopen\u001b[0m\u001b[1;33m(\u001b[0m\u001b[0minput_image_file\u001b[0m\u001b[1;33m)\u001b[0m \u001b[1;32mas\u001b[0m \u001b[0msrc\u001b[0m\u001b[1;33m:\u001b[0m\u001b[1;33m\u001b[0m\u001b[1;33m\u001b[0m\u001b[0m\n\u001b[0m\u001b[0;32m      3\u001b[0m     \u001b[1;31m# Read the image bands\u001b[0m\u001b[1;33m\u001b[0m\u001b[1;33m\u001b[0m\u001b[0m\n\u001b[0;32m      4\u001b[0m     \u001b[0mbands\u001b[0m \u001b[1;33m=\u001b[0m \u001b[0msrc\u001b[0m\u001b[1;33m.\u001b[0m\u001b[0mread\u001b[0m\u001b[1;33m(\u001b[0m\u001b[1;33m)\u001b[0m\u001b[1;33m\u001b[0m\u001b[1;33m\u001b[0m\u001b[0m\n\u001b[0;32m      5\u001b[0m     \u001b[0mnum_bands\u001b[0m\u001b[1;33m,\u001b[0m \u001b[0mheight\u001b[0m\u001b[1;33m,\u001b[0m \u001b[0mwidth\u001b[0m \u001b[1;33m=\u001b[0m \u001b[0mbands\u001b[0m\u001b[1;33m.\u001b[0m\u001b[0mshape\u001b[0m\u001b[1;33m\u001b[0m\u001b[1;33m\u001b[0m\u001b[0m\n",
      "\u001b[1;32m~\\anaconda3\\lib\\site-packages\\rasterio\\env.py\u001b[0m in \u001b[0;36mwrapper\u001b[1;34m(*args, **kwds)\u001b[0m\n\u001b[0;32m    435\u001b[0m \u001b[1;33m\u001b[0m\u001b[0m\n\u001b[0;32m    436\u001b[0m         \u001b[1;32mwith\u001b[0m \u001b[0menv_ctor\u001b[0m\u001b[1;33m(\u001b[0m\u001b[0msession\u001b[0m\u001b[1;33m=\u001b[0m\u001b[0msession\u001b[0m\u001b[1;33m)\u001b[0m\u001b[1;33m:\u001b[0m\u001b[1;33m\u001b[0m\u001b[1;33m\u001b[0m\u001b[0m\n\u001b[1;32m--> 437\u001b[1;33m             \u001b[1;32mreturn\u001b[0m \u001b[0mf\u001b[0m\u001b[1;33m(\u001b[0m\u001b[1;33m*\u001b[0m\u001b[0margs\u001b[0m\u001b[1;33m,\u001b[0m \u001b[1;33m**\u001b[0m\u001b[0mkwds\u001b[0m\u001b[1;33m)\u001b[0m\u001b[1;33m\u001b[0m\u001b[1;33m\u001b[0m\u001b[0m\n\u001b[0m\u001b[0;32m    438\u001b[0m \u001b[1;33m\u001b[0m\u001b[0m\n\u001b[0;32m    439\u001b[0m     \u001b[1;32mreturn\u001b[0m \u001b[0mwrapper\u001b[0m\u001b[1;33m\u001b[0m\u001b[1;33m\u001b[0m\u001b[0m\n",
      "\u001b[1;32m~\\anaconda3\\lib\\site-packages\\rasterio\\__init__.py\u001b[0m in \u001b[0;36mopen\u001b[1;34m(fp, mode, driver, width, height, count, crs, transform, dtype, nodata, sharing, **kwargs)\u001b[0m\n\u001b[0;32m    218\u001b[0m         \u001b[1;31m# None.\u001b[0m\u001b[1;33m\u001b[0m\u001b[1;33m\u001b[0m\u001b[0m\n\u001b[0;32m    219\u001b[0m         \u001b[1;32mif\u001b[0m \u001b[0mmode\u001b[0m \u001b[1;33m==\u001b[0m \u001b[1;34m'r'\u001b[0m\u001b[1;33m:\u001b[0m\u001b[1;33m\u001b[0m\u001b[1;33m\u001b[0m\u001b[0m\n\u001b[1;32m--> 220\u001b[1;33m             \u001b[0ms\u001b[0m \u001b[1;33m=\u001b[0m \u001b[0mDatasetReader\u001b[0m\u001b[1;33m(\u001b[0m\u001b[0mpath\u001b[0m\u001b[1;33m,\u001b[0m \u001b[0mdriver\u001b[0m\u001b[1;33m=\u001b[0m\u001b[0mdriver\u001b[0m\u001b[1;33m,\u001b[0m \u001b[0msharing\u001b[0m\u001b[1;33m=\u001b[0m\u001b[0msharing\u001b[0m\u001b[1;33m,\u001b[0m \u001b[1;33m**\u001b[0m\u001b[0mkwargs\u001b[0m\u001b[1;33m)\u001b[0m\u001b[1;33m\u001b[0m\u001b[1;33m\u001b[0m\u001b[0m\n\u001b[0m\u001b[0;32m    221\u001b[0m         \u001b[1;32melif\u001b[0m \u001b[0mmode\u001b[0m \u001b[1;33m==\u001b[0m \u001b[1;34m\"r+\"\u001b[0m\u001b[1;33m:\u001b[0m\u001b[1;33m\u001b[0m\u001b[1;33m\u001b[0m\u001b[0m\n\u001b[0;32m    222\u001b[0m             s = get_writer_for_path(path, driver=driver)(\n",
      "\u001b[1;32mrasterio\\_base.pyx\u001b[0m in \u001b[0;36mrasterio._base.DatasetBase.__init__\u001b[1;34m()\u001b[0m\n",
      "\u001b[1;31mRasterioIOError\u001b[0m: C:/Users/lilly/Documents/Sentinel downloads/Santa Barbara/2021/August 21/S2B_MSIL2A_20210831T173859_N0301_R098_T14VNM_20210831T214202.SAFE: Permission denied"
     ]
    }
   ],
   "source": [
    "# Open the Sentinel-2 image using rasterio\n",
    "with rasterio.open(input_image_file) as src:\n",
    "    # Read the image bands\n",
    "    bands = src.read()\n",
    "    num_bands, height, width = bands.shape\n",
    "\n",
    "    # Create a new HDF5 file\n",
    "    with h5py.File(output_hdf5_file, 'w') as f:\n",
    "        # Create a group for the bands\n",
    "        bands_group = f.create_group('bands')\n",
    "\n",
    "        # Create a dataset for each band\n",
    "        for band_idx in range(num_bands):\n",
    "            band_name = f'band_{band_idx + 1}'\n",
    "            band_data = bands[band_idx, :, :]\n",
    "\n",
    "            bands_group.create_dataset(band_name, data=band_data)\n",
    "\n",
    "        # Add metadata to the HDF5 file\n",
    "        f.attrs['num_bands'] = num_bands\n",
    "        f.attrs['height'] = height\n",
    "        f.attrs['width'] = width\n",
    "\n",
    "# Print a success message\n",
    "print('Sentinel-2 image converted to HDF5 format successfully.')"
   ]
  },
  {
   "cell_type": "code",
   "execution_count": 9,
   "id": "85f9fef8-ec66-4212-b986-1822f191d106",
   "metadata": {},
   "outputs": [
    {
     "name": "stdout",
     "output_type": "stream",
     "text": [
      "./data/SERC/2021/\n",
      "[]\n"
     ]
    },
    {
     "ename": "TypeError",
     "evalue": "cannot unpack non-iterable NoneType object",
     "output_type": "error",
     "traceback": [
      "\u001b[1;31m---------------------------------------------------------------------------\u001b[0m",
      "\u001b[1;31mTypeError\u001b[0m                                 Traceback (most recent call last)",
      "\u001b[1;32m~\\AppData\\Local\\Temp\\ipykernel_10232\\1476949685.py\u001b[0m in \u001b[0;36m<module>\u001b[1;34m\u001b[0m\n\u001b[0;32m     22\u001b[0m     \u001b[1;32mpass\u001b[0m\u001b[1;33m\u001b[0m\u001b[1;33m\u001b[0m\u001b[0m\n\u001b[0;32m     23\u001b[0m \u001b[1;33m\u001b[0m\u001b[0m\n\u001b[1;32m---> 24\u001b[1;33m \u001b[0mrefl\u001b[0m\u001b[1;33m,\u001b[0m \u001b[0mrefl_metadata\u001b[0m\u001b[1;33m,\u001b[0m \u001b[0mwavelengths\u001b[0m \u001b[1;33m=\u001b[0m \u001b[0maop_h5refl2array\u001b[0m\u001b[1;33m(\u001b[0m\u001b[0mh5_file\u001b[0m\u001b[1;33m,\u001b[0m \u001b[1;34m'Reflectance'\u001b[0m\u001b[1;33m)\u001b[0m\u001b[1;33m\u001b[0m\u001b[1;33m\u001b[0m\u001b[0m\n\u001b[0m\u001b[0;32m     25\u001b[0m \u001b[1;33m\u001b[0m\u001b[0m\n\u001b[0;32m     26\u001b[0m \u001b[1;31m# plot a single band of data\u001b[0m\u001b[1;33m\u001b[0m\u001b[1;33m\u001b[0m\u001b[0m\n",
      "\u001b[1;31mTypeError\u001b[0m: cannot unpack non-iterable NoneType object"
     ]
    }
   ],
   "source": [
    "# Set the data path where data will be downloaded (modify as needed!)\n",
    "site = 'SERC'\n",
    "year = '2021'\n",
    "data_root_path = f'./data/{site}/{year}/'\n",
    "h5_path = os.path.join(data_root_path, 'refl')\n",
    "\n",
    "# create the data directory if it doesn't exist\n",
    "os.makedirs(h5_path, exist_ok=True)\n",
    "\n",
    "# print the h5 path\n",
    "print(data_root_path)\n",
    "\n",
    "# display the contents in the data directory\n",
    "print(os.listdir(h5_path))\n",
    "\n",
    "# set the variable h5_file to be the full path of the downloaded reflectance h5 tile\n",
    "h5_file = os.path.join(h5_path, 'filename.h5')\n",
    "\n",
    "# read in the reflectance data using the aop_h5refl2array function\n",
    "def aop_h5refl2array(h5_file, refl_band):\n",
    "    # implementation of aop_h5refl2array function\n",
    "    pass\n",
    "\n",
    "refl, refl_metadata, wavelengths = aop_h5refl2array(h5_file, 'Reflectance')\n",
    "\n",
    "# plot a single band of data\n",
    "band56 = refl[:, :, 55]  # note Python uses 0-based indexing, so 55 corresponds to band 56\n",
    "plt.imshow(band56 / refl_metadata['scale_factor'], extent=refl_metadata['extent'], cmap='gist_earth',\n",
    "           vmin=0, vmax=0.3)\n",
    "plt.title('SERC Tile Band 56')\n",
    "plt.colorbar(label='Reflectance')\n",
    "plt.xlabel('X')\n",
    "plt.ylabel('Y')\n",
    "plt.show()\n",
    "\n",
    "# pull out the true-color and false-color band combinations\n",
    "rgb_bands = (58, 34, 19)  # set the red, green, and blue bands\n",
    "cir_bands = (90, 34, 19)  # set the color infrared bands\n",
    "\n",
    "# stack the 3-band combinations (rgb and cir) using stack_rgb function\n",
    "def stack_rgb(refl, bands):\n",
    "    # implementation of stack_rgb function\n",
    "    pass\n",
    "\n",
    "rgb_unscaled = stack_rgb(refl, rgb_bands)\n",
    "cir_unscaled = stack_rgb(refl, cir_bands)\n",
    "\n",
    "# apply the reflectance scale factor\n",
    "rgb = rgb_unscaled / refl_metadata['scale_factor']\n",
    "cir = cir_unscaled / refl_metadata['scale_factor']"
   ]
  },
  {
   "cell_type": "code",
   "execution_count": 10,
   "id": "e99843c1-cad9-461e-8444-11e7e9abd634",
   "metadata": {},
   "outputs": [
    {
     "ename": "NameError",
     "evalue": "name 'rgb' is not defined",
     "output_type": "error",
     "traceback": [
      "\u001b[1;31m---------------------------------------------------------------------------\u001b[0m",
      "\u001b[1;31mNameError\u001b[0m                                 Traceback (most recent call last)",
      "\u001b[1;32m~\\AppData\\Local\\Temp\\ipykernel_10232\\2686265758.py\u001b[0m in \u001b[0;36m<module>\u001b[1;34m\u001b[0m\n\u001b[0;32m      1\u001b[0m \u001b[1;31m# plot the true color image (rgb)\u001b[0m\u001b[1;33m\u001b[0m\u001b[1;33m\u001b[0m\u001b[0m\n\u001b[1;32m----> 2\u001b[1;33m \u001b[0mplt\u001b[0m\u001b[1;33m.\u001b[0m\u001b[0mimshow\u001b[0m\u001b[1;33m(\u001b[0m\u001b[0mrgb\u001b[0m\u001b[1;33m,\u001b[0m \u001b[0mextent\u001b[0m\u001b[1;33m=\u001b[0m\u001b[0mrefl_metadata\u001b[0m\u001b[1;33m[\u001b[0m\u001b[1;34m'extent'\u001b[0m\u001b[1;33m]\u001b[0m\u001b[1;33m)\u001b[0m\u001b[1;33m\u001b[0m\u001b[1;33m\u001b[0m\u001b[0m\n\u001b[0m\u001b[0;32m      3\u001b[0m \u001b[0mplt\u001b[0m\u001b[1;33m.\u001b[0m\u001b[0mtitle\u001b[0m\u001b[1;33m(\u001b[0m\u001b[1;34m'SERC RGB Image'\u001b[0m\u001b[1;33m)\u001b[0m\u001b[1;33m\u001b[0m\u001b[1;33m\u001b[0m\u001b[0m\n\u001b[0;32m      4\u001b[0m \u001b[0mplt\u001b[0m\u001b[1;33m.\u001b[0m\u001b[0mxlabel\u001b[0m\u001b[1;33m(\u001b[0m\u001b[1;34m'X'\u001b[0m\u001b[1;33m)\u001b[0m\u001b[1;33m\u001b[0m\u001b[1;33m\u001b[0m\u001b[0m\n\u001b[0;32m      5\u001b[0m \u001b[0mplt\u001b[0m\u001b[1;33m.\u001b[0m\u001b[0mylabel\u001b[0m\u001b[1;33m(\u001b[0m\u001b[1;34m'Y'\u001b[0m\u001b[1;33m)\u001b[0m\u001b[1;33m\u001b[0m\u001b[1;33m\u001b[0m\u001b[0m\n",
      "\u001b[1;31mNameError\u001b[0m: name 'rgb' is not defined"
     ]
    }
   ],
   "source": [
    "# plot the true color image (rgb)\n",
    "plt.imshow(rgb, extent=refl_metadata['extent'])\n",
    "plt.title('SERC RGB Image')\n",
    "plt.xlabel('X')\n",
    "plt.ylabel('Y')\n",
    "plt.show()\n",
    "\n",
    "# plot the false color image (color infrared / cir)\n",
    "plt.imshow(cir, extent=refl_metadata['extent'])\n",
    "plt.title('SERC Color Infrared Image')\n",
    "plt.xlabel('X')\n",
    "plt.ylabel('Y')\n",
    "plt.show()\n",
    "\n",
    "# read in the spectral information from the center pixel (of the 1000 x 1000 m tile) to a dataframe\n",
    "serc_pixel_df = pd.DataFrame()\n",
    "serc_pixel_df['reflectance'] = refl[500, 500, :]\n",
    "serc_pixel_df['wavelengths'] = wavelengths\n",
    "\n",
    "# plot the spectral signature\n",
    "plt.plot(serc_pixel_df['wavelengths'], serc_pixel_df['reflectance'], linewidth=2)\n",
    "plt.title('Spectral Signature for SERC Center Pixel')\n",
    "plt.xlabel('Wavelength, nm')\n",
    "plt.ylabel('Reflectance')\n",
    "plt.xlim([np.min(serc_pixel_df['wavelengths']), np.percentile(serc_pixel_df['wavelengths'], 98)])\n",
    "plt.ylim([np.min(serc_pixel_df['reflectance']), np.percentile(serc_pixel_df['reflectance'], 98)])\n",
    "plt.grid(True)\n",
    "plt.show()"
   ]
  },
  {
   "cell_type": "code",
   "execution_count": null,
   "id": "bc3002f5-da08-411c-8e25-d85e34a0d6ac",
   "metadata": {},
   "outputs": [],
   "source": []
  }
 ],
 "metadata": {
  "kernelspec": {
   "display_name": "Python 3 (ipykernel)",
   "language": "python",
   "name": "python3"
  },
  "language_info": {
   "codemirror_mode": {
    "name": "ipython",
    "version": 3
   },
   "file_extension": ".py",
   "mimetype": "text/x-python",
   "name": "python",
   "nbconvert_exporter": "python",
   "pygments_lexer": "ipython3",
   "version": "3.9.13"
  }
 },
 "nbformat": 4,
 "nbformat_minor": 5
}
