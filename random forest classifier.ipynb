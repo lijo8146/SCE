{
 "cells": [
  {
   "cell_type": "code",
   "execution_count": null,
   "id": "5641af06-2e78-4c52-b3e1-75b9b5a566fc",
   "metadata": {},
   "outputs": [],
   "source": [
    "#Using Sentinel-2 available spectral libraries for soil and veg to classify a scene\n",
    "\n",
    "import numpy as np\n",
    "import pandas as pd\n",
    "import rasterio as rio\n",
    "from sklearn.ensemble import RandomForestClassifier\n",
    "import matplotlib.pyplot as plt #for imshow\n",
    "\n",
    "# Define spectral libraries.\n",
    "spectral_libraries = {\n",
    "    'vegetation': [2.8, 3.9, 2.1, 1.5],\n",
    "    'bare_soil': [1.3, 1.6, 1.0, 0.8],\n",
    "    'water': [0.2, 0.3, 0.4, 0.5]\n",
    "}\n",
    "\n",
    "# Open Sentinel-2 raster file.\n",
    "with rio.open('sentinel-2.tif') as src:\n",
    "    # Read the raster bands into numpy arrays.\n",
    "    red = src.read(3)\n",
    "    green = src.read(2)\n",
    "    blue = src.read(1)\n",
    "    nir = src.read(4)\n",
    "\n",
    "    # Reshape the numpy arrays into a 2D array (pixel values as rows, bands as columns).\n",
    "    bands = np.array([red.flatten(), green.flatten(), blue.flatten(), nir.flatten()]).T\n",
    "\n",
    "# Convert numpy array into a pandas DataFrame.\n",
    "df = pd.DataFrame(bands, columns=['red', 'green', 'blue', 'nir'])\n",
    "\n",
    "# Calculate veg index.\n",
    "df['ndvi'] = (df['nir'] - df['red']) / (df['nir'] + df['red'])\n",
    "\n",
    "# training data (spectral libraries) and labels.\n",
    "X_train = pd.DataFrame.from_dict(spectral_libraries, orient='index')\n",
    "y_train = X_train.index\n",
    "\n",
    "# Train Random Forest classifier.\n",
    "clf = RandomForestClassifier(n_estimators=100, random_state=0)\n",
    "clf.fit(X_train, y_train)\n",
    "\n",
    "# Use clf to predict vegetation type of each pixel.\n",
    "y_pred = clf.predict(df)\n",
    "\n",
    "# Reshape predictions back into the original raster shape.\n",
    "pred_raster = y_pred.reshape(red.shape)\n",
    "\n",
    "# Save the predicted raster as a GeoTIFF file.\n",
    "with rio.open('vegetation_classification.tif', 'w', **src.profile) as dst:\n",
    "    dst.write(pred_raster.astype(rio.uint8), 1)\n",
    "\n",
    "# Plot the predicted classes of the pixels.\n",
    "plt.figure()\n",
    "plt.imshow(y_pred, cmap='tab10')\n",
    "plt.colorbar()\n",
    "plt.show()"
   ]
  }
 ],
 "metadata": {
  "kernelspec": {
   "display_name": "Python 3 (ipykernel)",
   "language": "python",
   "name": "python3"
  },
  "language_info": {
   "codemirror_mode": {
    "name": "ipython",
    "version": 3
   },
   "file_extension": ".py",
   "mimetype": "text/x-python",
   "name": "python",
   "nbconvert_exporter": "python",
   "pygments_lexer": "ipython3",
   "version": "3.9.13"
  }
 },
 "nbformat": 4,
 "nbformat_minor": 5
}
