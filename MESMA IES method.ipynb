{
 "cells": [
  {
   "cell_type": "code",
   "execution_count": null,
   "id": "d78ad784-4f0a-41ce-95c1-dd31d754a01f",
   "metadata": {},
   "outputs": [],
   "source": [
    "# MESMA IES method for interactive endmember selection\n",
    "\n",
    "import numpy as np\n",
    "import mesma\n",
    "import matplotlib.pyplot as plt\n",
    "\n",
    "# Load data\n",
    "input_data = np.loadtxt('input_data.txt')\n",
    "\n",
    "# Load spectral library \n",
    "\n",
    "spectral_library = np.loadtxt('spectral_library.txt')\n",
    "\n",
    "# Preprocessing as needed for atmospheric correction, etc. TBD\n",
    "\n",
    "# IES method in MESMA module\n",
    "ies = mesma.IES()\n",
    "\n",
    "# Run IES with preprocessed data and the spectral library \n",
    "output_data = ies.run(input_data, spectral_library)\n",
    "\n",
    "# Plot the output data.\n",
    "plt.figure()\n",
    "plt.plot(output_data[:, 0], output_data[:, 1], 'o')\n",
    "plt.xlabel('Wavelength (nm)')\n",
    "plt.ylabel('Reflectance')\n",
    "plt.show()\n",
    "\n",
    "# Save output TBD \n",
    "np.savetxt('output_data.txt', output_data)"
   ]
  }
 ],
 "metadata": {
  "kernelspec": {
   "display_name": "Python 3 (ipykernel)",
   "language": "python",
   "name": "python3"
  },
  "language_info": {
   "codemirror_mode": {
    "name": "ipython",
    "version": 3
   },
   "file_extension": ".py",
   "mimetype": "text/x-python",
   "name": "python",
   "nbconvert_exporter": "python",
   "pygments_lexer": "ipython3",
   "version": "3.9.13"
  }
 },
 "nbformat": 4,
 "nbformat_minor": 5
}
