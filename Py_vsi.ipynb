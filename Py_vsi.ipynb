{
 "cells": [
  {
   "cell_type": "code",
   "execution_count": 1,
   "id": "7d58e5fb-005f-4788-8a6d-96ce891a5d19",
   "metadata": {},
   "outputs": [],
   "source": [
    "# original R code by Ty Tuff, translated into Python\n",
    "\n",
    "!conda activate SCE"
   ]
  },
  {
   "cell_type": "code",
   "execution_count": 2,
   "id": "8420dffd-58f9-4aec-84e0-29c63e8dfedf",
   "metadata": {},
   "outputs": [],
   "source": [
    "# imports\n",
    "import os\n",
    "from osgeo import gdal\n",
    "import rasterio\n",
    "import datacube\n",
    "import requests\n",
    "import json\n",
    "from datetime import datetime\n",
    "import matplotlib.pyplot as plt\n",
    "import geopandas as gpd\n",
    "from shapely.geometry import Polygon\n",
    "from dateutil.relativedelta import relativedelta\n",
    "import numpy as np\n",
    "from matplotlib.colors import LinearSegmentedColormap\n",
    "from rasterio.plot import show\n",
    "from osgeo import osr\n",
    "import tmap\n",
    "from datacube import Datacube\n",
    "from datacube.utils.geometry import Geometry\n",
    "from matplotlib.animation import FuncAnimation"
   ]
  },
  {
   "cell_type": "code",
   "execution_count": 3,
   "id": "bc8c2807-7609-45e7-9a89-a35982cb18e2",
   "metadata": {},
   "outputs": [
    {
     "ename": "HTTPError",
     "evalue": "404 Client Error:  for url: https://apihub.copernicus.eu/apihub/tokens",
     "output_type": "error",
     "traceback": [
      "\u001b[1;31m---------------------------------------------------------------------------\u001b[0m",
      "\u001b[1;31mHTTPError\u001b[0m                                 Traceback (most recent call last)",
      "Cell \u001b[1;32mIn[3], line 30\u001b[0m\n\u001b[0;32m     25\u001b[0m \u001b[38;5;66;03m# Authenticate with the API\u001b[39;00m\n\u001b[0;32m     26\u001b[0m auth_response \u001b[38;5;241m=\u001b[39m requests\u001b[38;5;241m.\u001b[39mpost(\u001b[38;5;124m'\u001b[39m\u001b[38;5;124mhttps://apihub.copernicus.eu/apihub/tokens\u001b[39m\u001b[38;5;124m'\u001b[39m, data\u001b[38;5;241m=\u001b[39m{\n\u001b[0;32m     27\u001b[0m     \u001b[38;5;124m'\u001b[39m\u001b[38;5;124musername\u001b[39m\u001b[38;5;124m'\u001b[39m: username,\n\u001b[0;32m     28\u001b[0m     \u001b[38;5;124m'\u001b[39m\u001b[38;5;124mpassword\u001b[39m\u001b[38;5;124m'\u001b[39m: password,\n\u001b[0;32m     29\u001b[0m })\n\u001b[1;32m---> 30\u001b[0m \u001b[43mauth_response\u001b[49m\u001b[38;5;241;43m.\u001b[39;49m\u001b[43mraise_for_status\u001b[49m\u001b[43m(\u001b[49m\u001b[43m)\u001b[49m\n\u001b[0;32m     31\u001b[0m token \u001b[38;5;241m=\u001b[39m auth_response\u001b[38;5;241m.\u001b[39mjson()[\u001b[38;5;124m'\u001b[39m\u001b[38;5;124mtoken\u001b[39m\u001b[38;5;124m'\u001b[39m]\n\u001b[0;32m     33\u001b[0m \u001b[38;5;66;03m# Search for Sentinel-2 products\u001b[39;00m\n",
      "File \u001b[1;32m~\\anaconda3\\envs\\SCE\\lib\\site-packages\\requests\\models.py:1021\u001b[0m, in \u001b[0;36mResponse.raise_for_status\u001b[1;34m(self)\u001b[0m\n\u001b[0;32m   1016\u001b[0m     http_error_msg \u001b[38;5;241m=\u001b[39m (\n\u001b[0;32m   1017\u001b[0m         \u001b[38;5;124mf\u001b[39m\u001b[38;5;124m\"\u001b[39m\u001b[38;5;132;01m{\u001b[39;00m\u001b[38;5;28mself\u001b[39m\u001b[38;5;241m.\u001b[39mstatus_code\u001b[38;5;132;01m}\u001b[39;00m\u001b[38;5;124m Server Error: \u001b[39m\u001b[38;5;132;01m{\u001b[39;00mreason\u001b[38;5;132;01m}\u001b[39;00m\u001b[38;5;124m for url: \u001b[39m\u001b[38;5;132;01m{\u001b[39;00m\u001b[38;5;28mself\u001b[39m\u001b[38;5;241m.\u001b[39murl\u001b[38;5;132;01m}\u001b[39;00m\u001b[38;5;124m\"\u001b[39m\n\u001b[0;32m   1018\u001b[0m     )\n\u001b[0;32m   1020\u001b[0m \u001b[38;5;28;01mif\u001b[39;00m http_error_msg:\n\u001b[1;32m-> 1021\u001b[0m     \u001b[38;5;28;01mraise\u001b[39;00m HTTPError(http_error_msg, response\u001b[38;5;241m=\u001b[39m\u001b[38;5;28mself\u001b[39m)\n",
      "\u001b[1;31mHTTPError\u001b[0m: 404 Client Error:  for url: https://apihub.copernicus.eu/apihub/tokens"
     ]
    }
   ],
   "source": [
    "# access the API and download scenes\n",
    "# Define the API Hub search endpoint for Sentinel-2\n",
    "search_url = 'https://apihub.copernicus.eu/apihub/search'\n",
    "\n",
    "# Copernicus Open Access Hub credentials\n",
    "username = 'your_username'\n",
    "password = 'your_password'\n",
    "\n",
    "# Bounding box coordinates (longitude and latitude) WIP: Replace with SCE\n",
    "\n",
    "bbox = {\n",
    "    \"bottom\": 52.0,\n",
    "    \"top\": 53.0,\n",
    "    \"left\": 8.0,\n",
    "    \"right\": 9.0\n",
    "}\n",
    "\n",
    "# Search parameters\n",
    "search_params = {\n",
    "    'q': f'footprint:\"Intersects({bbox[\"top\"]}, {bbox[\"left\"]}, {bbox[\"bottom\"]}, {bbox[\"right\"]})\" producttype:S2MSI1C',\n",
    "    'rows': 5,  # Number of search results to retrieve (their API only allows 2 at a time?)\n",
    "    'start': 0,\n",
    "}\n",
    "\n",
    "# Authenticate with the API\n",
    "auth_response = requests.post('https://apihub.copernicus.eu/apihub/tokens', data={\n",
    "    'username': username,\n",
    "    'password': password,\n",
    "})\n",
    "auth_response.raise_for_status()\n",
    "token = auth_response.json()['token']\n",
    "\n",
    "# Search for Sentinel-2 products\n",
    "search_response = requests.get(search_url, params=search_params, headers={'Authorization': f'Bearer {token}'})\n",
    "search_response.raise_for_status()\n",
    "search_results = search_response.json()\n",
    "\n",
    "# Loop through search results and download products\n",
    "download_dir = 'sentinel_data'\n",
    "os.makedirs(download_dir, exist_ok=True)\n",
    "\n",
    "for product in search_results.get('products', []):\n",
    "    # Extract product details\n",
    "    product_id = product['id']\n",
    "    product_title = product['title']\n",
    "    product_url = product['link']\n",
    "\n",
    "    # Download the product\n",
    "    product_response = requests.get(product_url, stream=True)\n",
    "    product_response.raise_for_status()\n",
    "\n",
    "    # Save the product to a file\n",
    "    product_filename = os.path.join(download_dir, f'{product_id}_{product_title}.zip')\n",
    "    with open(product_filename, 'wb') as file:\n",
    "        for chunk in product_response.iter_content(chunk_size=8192):\n",
    "            file.write(chunk)\n",
    "\n",
    "    print(f'Downloaded: {product_title}')\n",
    "\n",
    "print('Download complete.')"
   ]
  },
  {
   "cell_type": "code",
   "execution_count": null,
   "id": "5c663ba5-d53a-4d15-a6b4-d31b6cc17e9e",
   "metadata": {},
   "outputs": [],
   "source": [
    "# data cube (data cubes consist of spatial (x, y) and temporal (time) dimensions, add cloud masking and compositing satellite images).\n",
    "\n",
    "# Set up the Datacube\n",
    "dc = Datacube()\n",
    "\n",
    "# Define the query parameters\n",
    "query = {\n",
    "    'time': ('2021-06-01', '2021-07-30'),\n",
    "    'x': (bbox_32618[0], bbox_32618[2]),\n",
    "    'y': (bbox_32618[1], bbox_32618[3]),\n",
    "    'crs': 'EPSG:32618',\n",
    "    'resolution': (-1, 1),  # Adjust resolution as needed\n",
    "}"
   ]
  },
  {
   "cell_type": "code",
   "execution_count": null,
   "id": "f8448738-5bc6-4c9e-9e6f-639b250b7247",
   "metadata": {},
   "outputs": [],
   "source": [
    "# bounding box transformation (retrieve bounding box and transform to different coordinate systems (EPSG:4326 and EPSG:32618 in Ty's code).\n",
    "\n",
    "\n",
    "# Define the bounding box in EPSG:4326\n",
    "osm_bbox = gpd.read_file(gpd.datasets.get_path(\"naturalearth_lowres\"))\n",
    "osm_bbox = osm_bbox[osm_bbox['name'] == \"United States\"]\n",
    "bbox_4326 = osm_bbox.to_crs(\"EPSG:4326\").total_bounds\n",
    "\n",
    "# Define the bounding box in EPSG:32618\n",
    "bbox_32618 = osm_bbox.to_crs(\"EPSG:32618\").total_bounds"
   ]
  },
  {
   "cell_type": "code",
   "execution_count": null,
   "id": "a0f106e9-4ba8-45e3-803f-0e5f4e81bbc7",
   "metadata": {},
   "outputs": [],
   "source": [
    "# Sentinel-2 data retrieval (this section interacts with the AWS Earth Search API to search for Sentinel-2 imagery within a specified time range and bounding box. It then fetches the metadata of the retrieved items. Should I stick with this API or use Open Copernicus?) WIP\n",
    "\n",
    "# Perform the query\n",
    "dataset = dc.load(product='sentinel_s2_l2a', **query)\n"
   ]
  },
  {
   "cell_type": "code",
   "execution_count": null,
   "id": "a0e5e74a-9c07-44c2-8c82-0009ff2fe32e",
   "metadata": {},
   "outputs": [],
   "source": [
    "# data Cube Configuration (configure a data cube with specific spatial and temporal parameters, such as resolution, aggregation method, and time extent).\n",
    "\n",
    "\n"
   ]
  },
  {
   "cell_type": "code",
   "execution_count": null,
   "id": "1868a81d-47a3-4cac-af1b-f46f007b3143",
   "metadata": {},
   "outputs": [],
   "source": [
    "# NDVI Calculation and Visualization (calculates NDVI, apply a mask to exclude clouds and cloud shadows, \n",
    "#compute NDVI values, and visualizes them as a raster plot using various colors for different NDVI values).\n",
    "\n",
    "# Calculate NDVI\n",
    "ndvi = (dataset['B08'] - dataset['B04']) / (dataset['B08'] + dataset['B04'])\n",
    "\n",
    "\n"
   ]
  },
  {
   "cell_type": "code",
   "execution_count": null,
   "id": "a67f8736-546f-4679-a9c6-7b0657bc64f7",
   "metadata": {},
   "outputs": [],
   "source": [
    "# plot median NDVI values\n",
    "\n",
    "plt.imshow(ndvi.median(dim='time'), cmap='RdYlGn', vmin=-1, vmax=1)\n",
    "plt.colorbar()\n",
    "plt.show()\n",
    "\n",
    "# Load raster data\n",
    "with rasterio.open('path_to_new_star_raster.tif') as src:\n",
    "    data = src.read(1)\n",
    "\n",
    "# Define a color map for the NDVI values\n",
    "cmap = plt.get_cmap('YlGn')\n",
    "\n",
    "# Create the NDVI plot\n",
    "plt.figure(figsize=(8, 8))\n",
    "plt.imshow(data, cmap=cmap, vmin=-0.2, vmax=1)\n",
    "plt.colorbar()\n",
    "plt.title('NDVI')\n",
    "plt.show()\n"
   ]
  },
  {
   "cell_type": "code",
   "execution_count": null,
   "id": "198ea83c-b7b4-4ce5-9307-e49ed85d6aff",
   "metadata": {},
   "outputs": [],
   "source": [
    "# animated NDVI (create animated GIF showing changes in NDVI over time for specified area - save prev result at ani)\n",
    "\n",
    "# Load the raster data\n",
    "with rasterio.open('path_to_raster.tif') as src:\n",
    "    data = src.read(1)\n",
    "\n",
    "# Define a color map for the NDVI values\n",
    "cmap = plt.get_cmap('YlGn')\n",
    "\n",
    "# Create a figure and axis for the initial plot\n",
    "fig, ax = plt.subplots(figsize=(8, 8))\n",
    "img = ax.imshow(data, cmap=cmap, vmin=-0.2, vmax=1)\n",
    "colorbar = plt.colorbar(img)\n",
    "ax.set_title('NDVI')\n",
    "\n",
    "# Define an update function to animate the plot\n",
    "def update(frame):\n",
    "    # Update the data for each frame (modify this part as needed)\n",
    "    new_data = data + (frame / 100.0)  # Example: shifting the data\n",
    "    img.set_data(new_data)\n",
    "    return img,\n",
    "\n",
    "# Create the animation\n",
    "ani = FuncAnimation(fig, update, frames=range(100), interval=100, repeat=False)\n",
    "\n",
    "# Display the animation\n",
    "plt.show()"
   ]
  }
 ],
 "metadata": {
  "kernelspec": {
   "display_name": "Python [conda env:SCE]",
   "language": "python",
   "name": "conda-env-SCE-py"
  },
  "language_info": {
   "codemirror_mode": {
    "name": "ipython",
    "version": 3
   },
   "file_extension": ".py",
   "mimetype": "text/x-python",
   "name": "python",
   "nbconvert_exporter": "python",
   "pygments_lexer": "ipython3",
   "version": "3.9.17"
  }
 },
 "nbformat": 4,
 "nbformat_minor": 5
}
